{
 "cells": [
  {
   "cell_type": "markdown",
   "metadata": {},
   "source": [
    "# Notebook 03: Feature Engineering\n",
    "\n",
    "**Prueba Técnica - Modelador Junior**\n",
    "\n",
    "---\n",
    "\n",
    "## Objetivo\n",
    "\n",
    "Crear features avanzadas a partir de las predicciones de los 5 modelos:\n",
    "1. Features básicas por modelo: cambios, direcciones\n",
    "2. Features agregadas: media, mediana, desv. std\n",
    "3. Features de consenso: acuerdo entre modelos\n",
    "4. Features de dispersión: variabilidad de predicciones\n",
    "\n",
    "---\n",
    "\n",
    "## 1. Imports"
   ]
  },
  {
   "cell_type": "code",
   "execution_count": 1,
   "metadata": {},
   "outputs": [
    {
     "name": "stdout",
     "output_type": "stream",
     "text": [
      "Librerías cargadas\n"
     ]
    }
   ],
   "source": [
    "import pandas as pd\n",
    "import numpy as np\n",
    "import matplotlib.pyplot as plt\n",
    "import seaborn as sns\n",
    "import warnings\n",
    "\n",
    "warnings.filterwarnings('ignore')\n",
    "sns.set_style('whitegrid')\n",
    "np.random.seed(42)\n",
    "\n",
    "print(\"Librerías cargadas\")"
   ]
  },
  {
   "cell_type": "markdown",
   "metadata": {},
   "source": [
    "## 2. Cargar Dataset Procesado"
   ]
  },
  {
   "cell_type": "code",
   "execution_count": 2,
   "metadata": {},
   "outputs": [
    {
     "name": "stdout",
     "output_type": "stream",
     "text": [
      "Dataset cargado: (56, 8)\n",
      "['date_requested', 'date_prediction', 'value_at_request', 'value_at_prediction', 'direction_real', 'AA6KBD', 'IPBG4J', 'OBONV1']\n"
     ]
    },
    {
     "data": {
      "text/html": [
       "<div>\n",
       "<style scoped>\n",
       "    .dataframe tbody tr th:only-of-type {\n",
       "        vertical-align: middle;\n",
       "    }\n",
       "\n",
       "    .dataframe tbody tr th {\n",
       "        vertical-align: top;\n",
       "    }\n",
       "\n",
       "    .dataframe thead th {\n",
       "        text-align: right;\n",
       "    }\n",
       "</style>\n",
       "<table border=\"1\" class=\"dataframe\">\n",
       "  <thead>\n",
       "    <tr style=\"text-align: right;\">\n",
       "      <th></th>\n",
       "      <th>date_requested</th>\n",
       "      <th>date_prediction</th>\n",
       "      <th>value_at_request</th>\n",
       "      <th>value_at_prediction</th>\n",
       "      <th>direction_real</th>\n",
       "      <th>AA6KBD</th>\n",
       "      <th>IPBG4J</th>\n",
       "      <th>OBONV1</th>\n",
       "    </tr>\n",
       "  </thead>\n",
       "  <tbody>\n",
       "    <tr>\n",
       "      <th>0</th>\n",
       "      <td>2024-03-07</td>\n",
       "      <td>2024-04-04</td>\n",
       "      <td>212.539897</td>\n",
       "      <td>229.151629</td>\n",
       "      <td>1</td>\n",
       "      <td>357.438293</td>\n",
       "      <td>362.087507</td>\n",
       "      <td>488.738378</td>\n",
       "    </tr>\n",
       "    <tr>\n",
       "      <th>1</th>\n",
       "      <td>2024-03-14</td>\n",
       "      <td>2024-04-11</td>\n",
       "      <td>222.152215</td>\n",
       "      <td>256.599110</td>\n",
       "      <td>1</td>\n",
       "      <td>357.438293</td>\n",
       "      <td>362.087507</td>\n",
       "      <td>265.336645</td>\n",
       "    </tr>\n",
       "    <tr>\n",
       "      <th>2</th>\n",
       "      <td>2024-03-21</td>\n",
       "      <td>2024-04-18</td>\n",
       "      <td>277.409972</td>\n",
       "      <td>377.644728</td>\n",
       "      <td>1</td>\n",
       "      <td>357.438293</td>\n",
       "      <td>362.087507</td>\n",
       "      <td>394.036593</td>\n",
       "    </tr>\n",
       "    <tr>\n",
       "      <th>3</th>\n",
       "      <td>2024-03-28</td>\n",
       "      <td>2024-04-25</td>\n",
       "      <td>237.324075</td>\n",
       "      <td>334.578301</td>\n",
       "      <td>1</td>\n",
       "      <td>357.438293</td>\n",
       "      <td>362.087507</td>\n",
       "      <td>319.777665</td>\n",
       "    </tr>\n",
       "    <tr>\n",
       "      <th>4</th>\n",
       "      <td>2024-04-04</td>\n",
       "      <td>2024-05-02</td>\n",
       "      <td>229.151629</td>\n",
       "      <td>304.996921</td>\n",
       "      <td>1</td>\n",
       "      <td>357.438293</td>\n",
       "      <td>362.087507</td>\n",
       "      <td>277.921764</td>\n",
       "    </tr>\n",
       "  </tbody>\n",
       "</table>\n",
       "</div>"
      ],
      "text/plain": [
       "  date_requested date_prediction  value_at_request  value_at_prediction  \\\n",
       "0     2024-03-07      2024-04-04        212.539897           229.151629   \n",
       "1     2024-03-14      2024-04-11        222.152215           256.599110   \n",
       "2     2024-03-21      2024-04-18        277.409972           377.644728   \n",
       "3     2024-03-28      2024-04-25        237.324075           334.578301   \n",
       "4     2024-04-04      2024-05-02        229.151629           304.996921   \n",
       "\n",
       "   direction_real      AA6KBD      IPBG4J      OBONV1  \n",
       "0               1  357.438293  362.087507  488.738378  \n",
       "1               1  357.438293  362.087507  265.336645  \n",
       "2               1  357.438293  362.087507  394.036593  \n",
       "3               1  357.438293  362.087507  319.777665  \n",
       "4               1  357.438293  362.087507  277.921764  "
      ]
     },
     "metadata": {},
     "output_type": "display_data"
    }
   ],
   "source": [
    "# Cargar dataset del notebook anterior\n",
    "df = pd.read_csv('../data/processed/dataset_completo.csv')\n",
    "\n",
    "# Convertir fechas\n",
    "df['date_requested'] = pd.to_datetime(df['date_requested'])\n",
    "df['date_prediction'] = pd.to_datetime(df['date_prediction'])\n",
    "\n",
    "print(f\"Dataset cargado: {df.shape}\")\n",
    "print(f\"{list(df.columns)}\")\n",
    "display(df.head())"
   ]
  },
  {
   "cell_type": "markdown",
   "metadata": {},
   "source": [
    "## 3. Definir Modelos"
   ]
  },
  {
   "cell_type": "code",
   "execution_count": 3,
   "metadata": {},
   "outputs": [
    {
     "name": "stdout",
     "output_type": "stream",
     "text": [
      "Modelos: ['AA6KBD', 'IPBG4J', 'OBONV1']\n"
     ]
    },
    {
     "data": {
      "text/html": [
       "<div>\n",
       "<style scoped>\n",
       "    .dataframe tbody tr th:only-of-type {\n",
       "        vertical-align: middle;\n",
       "    }\n",
       "\n",
       "    .dataframe tbody tr th {\n",
       "        vertical-align: top;\n",
       "    }\n",
       "\n",
       "    .dataframe thead th {\n",
       "        text-align: right;\n",
       "    }\n",
       "</style>\n",
       "<table border=\"1\" class=\"dataframe\">\n",
       "  <thead>\n",
       "    <tr style=\"text-align: right;\">\n",
       "      <th></th>\n",
       "      <th>AA6KBD</th>\n",
       "      <th>IPBG4J</th>\n",
       "      <th>OBONV1</th>\n",
       "    </tr>\n",
       "  </thead>\n",
       "  <tbody>\n",
       "    <tr>\n",
       "      <th>count</th>\n",
       "      <td>56.000000</td>\n",
       "      <td>56.000000</td>\n",
       "      <td>56.000000</td>\n",
       "    </tr>\n",
       "    <tr>\n",
       "      <th>mean</th>\n",
       "      <td>355.127620</td>\n",
       "      <td>359.691220</td>\n",
       "      <td>351.776395</td>\n",
       "    </tr>\n",
       "    <tr>\n",
       "      <th>std</th>\n",
       "      <td>56.047451</td>\n",
       "      <td>78.584131</td>\n",
       "      <td>87.332597</td>\n",
       "    </tr>\n",
       "    <tr>\n",
       "      <th>min</th>\n",
       "      <td>219.504748</td>\n",
       "      <td>201.665642</td>\n",
       "      <td>207.775661</td>\n",
       "    </tr>\n",
       "    <tr>\n",
       "      <th>25%</th>\n",
       "      <td>318.801899</td>\n",
       "      <td>314.965154</td>\n",
       "      <td>270.502771</td>\n",
       "    </tr>\n",
       "    <tr>\n",
       "      <th>50%</th>\n",
       "      <td>357.438293</td>\n",
       "      <td>362.087507</td>\n",
       "      <td>353.539727</td>\n",
       "    </tr>\n",
       "    <tr>\n",
       "      <th>75%</th>\n",
       "      <td>389.214319</td>\n",
       "      <td>410.224704</td>\n",
       "      <td>430.515190</td>\n",
       "    </tr>\n",
       "    <tr>\n",
       "      <th>max</th>\n",
       "      <td>456.483695</td>\n",
       "      <td>497.533229</td>\n",
       "      <td>495.225136</td>\n",
       "    </tr>\n",
       "  </tbody>\n",
       "</table>\n",
       "</div>"
      ],
      "text/plain": [
       "           AA6KBD      IPBG4J      OBONV1\n",
       "count   56.000000   56.000000   56.000000\n",
       "mean   355.127620  359.691220  351.776395\n",
       "std     56.047451   78.584131   87.332597\n",
       "min    219.504748  201.665642  207.775661\n",
       "25%    318.801899  314.965154  270.502771\n",
       "50%    357.438293  362.087507  353.539727\n",
       "75%    389.214319  410.224704  430.515190\n",
       "max    456.483695  497.533229  495.225136"
      ]
     },
     "metadata": {},
     "output_type": "display_data"
    }
   ],
   "source": [
    "# Lista de modelos\n",
    "models = ['AA6KBD', 'IPBG4J', 'OBONV1']\n",
    "print(f\"Modelos: {models}\")\n",
    "display(df[models].describe())"
   ]
  },
  {
   "cell_type": "markdown",
   "metadata": {},
   "source": [
    "## 4. Features Básicas por Modelo\n",
    "\n",
    "Para cada modelo, calcularemos:\n",
    "- **Cambio absoluto**: predicción - precio_actual\n",
    "- **Cambio porcentual**: (cambio / precio_actual) * 100\n",
    "- **Dirección predicha**: 1 si predice subida, 0 si no"
   ]
  },
  {
   "cell_type": "code",
   "execution_count": 4,
   "metadata": {},
   "outputs": [
    {
     "name": "stdout",
     "output_type": "stream",
     "text": [
      "======================================================================\n",
      "CREANDO FEATURES POR MODELO\n",
      "======================================================================\n",
      "\n",
      "Features creadas: 9 features (3 por modelo)\n",
      "\n",
      "Nuevas dimensiones: (56, 17)\n"
     ]
    }
   ],
   "source": [
    "print(\"=\"*70)\n",
    "print(\"CREANDO FEATURES POR MODELO\")\n",
    "print(\"=\"*70)\n",
    "\n",
    "for model in models:\n",
    "    # Cambio absoluto\n",
    "    df[f'{model}_change'] = df[model] - df['value_at_request']\n",
    "    \n",
    "    # Cambio porcentual\n",
    "    df[f'{model}_pct_change'] = (df[f'{model}_change'] / df['value_at_request']) * 100\n",
    "    \n",
    "    # Dirección predicha\n",
    "    df[f'{model}_direction'] = (df[model] > df['value_at_request']).astype(int)\n",
    "\n",
    "print(f\"\\nFeatures creadas: {len(models) * 3} features (3 por modelo)\")\n",
    "print(f\"\\nNuevas dimensiones: {df.shape}\")"
   ]
  },
  {
   "cell_type": "markdown",
   "metadata": {},
   "source": [
    "## 5. Features Agregadas\n",
    "\n",
    "Estadísticas sobre el conjunto de predicciones:"
   ]
  },
  {
   "cell_type": "code",
   "execution_count": 5,
   "metadata": {},
   "outputs": [
    {
     "name": "stdout",
     "output_type": "stream",
     "text": [
      "\n",
      "======================================================================\n",
      "CREANDO FEATURES AGREGADAS\n",
      "======================================================================\n",
      "6 features agregadas creadas\n",
      "\n",
      "Estadísticas de features agregadas:\n"
     ]
    },
    {
     "data": {
      "text/html": [
       "<div>\n",
       "<style scoped>\n",
       "    .dataframe tbody tr th:only-of-type {\n",
       "        vertical-align: middle;\n",
       "    }\n",
       "\n",
       "    .dataframe tbody tr th {\n",
       "        vertical-align: top;\n",
       "    }\n",
       "\n",
       "    .dataframe thead th {\n",
       "        text-align: right;\n",
       "    }\n",
       "</style>\n",
       "<table border=\"1\" class=\"dataframe\">\n",
       "  <thead>\n",
       "    <tr style=\"text-align: right;\">\n",
       "      <th></th>\n",
       "      <th>pred_mean</th>\n",
       "      <th>pred_median</th>\n",
       "      <th>pred_std</th>\n",
       "      <th>pred_range</th>\n",
       "    </tr>\n",
       "  </thead>\n",
       "  <tbody>\n",
       "    <tr>\n",
       "      <th>count</th>\n",
       "      <td>56.000000</td>\n",
       "      <td>56.000000</td>\n",
       "      <td>56.000000</td>\n",
       "      <td>56.000000</td>\n",
       "    </tr>\n",
       "    <tr>\n",
       "      <th>mean</th>\n",
       "      <td>355.531745</td>\n",
       "      <td>356.125978</td>\n",
       "      <td>71.549969</td>\n",
       "      <td>133.715711</td>\n",
       "    </tr>\n",
       "    <tr>\n",
       "      <th>std</th>\n",
       "      <td>39.053234</td>\n",
       "      <td>51.370438</td>\n",
       "      <td>31.428370</td>\n",
       "      <td>59.218767</td>\n",
       "    </tr>\n",
       "    <tr>\n",
       "      <th>min</th>\n",
       "      <td>272.878200</td>\n",
       "      <td>226.854615</td>\n",
       "      <td>16.557436</td>\n",
       "      <td>30.465209</td>\n",
       "    </tr>\n",
       "    <tr>\n",
       "      <th>25%</th>\n",
       "      <td>325.615728</td>\n",
       "      <td>339.108100</td>\n",
       "      <td>48.308311</td>\n",
       "      <td>89.035727</td>\n",
       "    </tr>\n",
       "    <tr>\n",
       "      <th>50%</th>\n",
       "      <td>355.264096</td>\n",
       "      <td>357.438293</td>\n",
       "      <td>72.679950</td>\n",
       "      <td>133.415286</td>\n",
       "    </tr>\n",
       "    <tr>\n",
       "      <th>75%</th>\n",
       "      <td>383.161087</td>\n",
       "      <td>385.777860</td>\n",
       "      <td>97.101996</td>\n",
       "      <td>181.509863</td>\n",
       "    </tr>\n",
       "    <tr>\n",
       "      <th>max</th>\n",
       "      <td>459.656285</td>\n",
       "      <td>476.290658</td>\n",
       "      <td>134.464646</td>\n",
       "      <td>260.719182</td>\n",
       "    </tr>\n",
       "  </tbody>\n",
       "</table>\n",
       "</div>"
      ],
      "text/plain": [
       "        pred_mean  pred_median    pred_std  pred_range\n",
       "count   56.000000    56.000000   56.000000   56.000000\n",
       "mean   355.531745   356.125978   71.549969  133.715711\n",
       "std     39.053234    51.370438   31.428370   59.218767\n",
       "min    272.878200   226.854615   16.557436   30.465209\n",
       "25%    325.615728   339.108100   48.308311   89.035727\n",
       "50%    355.264096   357.438293   72.679950  133.415286\n",
       "75%    383.161087   385.777860   97.101996  181.509863\n",
       "max    459.656285   476.290658  134.464646  260.719182"
      ]
     },
     "metadata": {},
     "output_type": "display_data"
    }
   ],
   "source": [
    "print(\"\\n\" + \"=\"*70)\n",
    "print(\"CREANDO FEATURES AGREGADAS\")\n",
    "print(\"=\"*70)\n",
    "\n",
    "# Media de predicciones\n",
    "df['pred_mean'] = df[models].mean(axis=1)\n",
    "\n",
    "# Mediana\n",
    "df['pred_median'] = df[models].median(axis=1)\n",
    "\n",
    "# Desviación estándar\n",
    "df['pred_std'] = df[models].std(axis=1)\n",
    "\n",
    "# Mínimo y máximo\n",
    "df['pred_min'] = df[models].min(axis=1)\n",
    "df['pred_max'] = df[models].max(axis=1)\n",
    "\n",
    "# Rango\n",
    "df['pred_range'] = df['pred_max'] - df['pred_min']\n",
    "\n",
    "print(f\"6 features agregadas creadas\")\n",
    "print(f\"\\nEstadísticas de features agregadas:\")\n",
    "display(df[['pred_mean', 'pred_median', 'pred_std', 'pred_range']].describe())"
   ]
  },
  {
   "cell_type": "markdown",
   "metadata": {},
   "source": [
    "## 6. Features de Consenso\n",
    "\n",
    "¿Cuántos modelos están de acuerdo en la dirección?"
   ]
  },
  {
   "cell_type": "code",
   "execution_count": 6,
   "metadata": {},
   "outputs": [
    {
     "name": "stdout",
     "output_type": "stream",
     "text": [
      "\n",
      "======================================================================\n",
      "CREANDO FEATURES DE CONSENSO\n",
      "======================================================================\n",
      "5 features de consenso creadas\n",
      "\n",
      "Distribución de consenso:\n",
      "consensus_direction\n",
      "1    47\n",
      "0     9\n",
      "Name: count, dtype: int64\n",
      "\n",
      "Distribución de acuerdo:\n",
      "consensus_bullish\n",
      "0     3\n",
      "1     6\n",
      "2    23\n",
      "3    24\n",
      "dtype: int64\n"
     ]
    }
   ],
   "source": [
    "print(\"\\n\" + \"=\"*70)\n",
    "print(\"CREANDO FEATURES DE CONSENSO\")\n",
    "print(\"=\"*70)\n",
    "\n",
    "# Obtener columnas de dirección\n",
    "direction_cols = [f'{model}_direction' for model in models]\n",
    "\n",
    "# Consenso: dirección mayoritaria\n",
    "df['consensus_direction'] = df[direction_cols].mode(axis=1)[0].astype(int)\n",
    "\n",
    "# Cantidad de modelos bullish (predicen subida)\n",
    "df['consensus_bullish'] = df[direction_cols].sum(axis=1)\n",
    "\n",
    "# Cantidad de modelos bearish (predicen bajada)\n",
    "df['consensus_bearish'] = len(models) - df['consensus_bullish']\n",
    "\n",
    "# Hay empate?\n",
    "df['consensus_mixed'] = (df['consensus_bullish'] == df['consensus_bearish']).astype(int)\n",
    "\n",
    "# Grado de acuerdo (0 a 1)\n",
    "df['direction_agreement'] = df[direction_cols].std(axis=1)\n",
    "\n",
    "print(f\"5 features de consenso creadas\")\n",
    "print(f\"\\nDistribución de consenso:\")\n",
    "print(df['consensus_direction'].value_counts())\n",
    "print(f\"\\nDistribución de acuerdo:\")\n",
    "print(df.groupby('consensus_bullish').size())"
   ]
  },
  {
   "cell_type": "markdown",
   "metadata": {},
   "source": [
    "## 7. Features de Dispersión\n",
    "\n",
    "Medidas de variabilidad en las predicciones:"
   ]
  },
  {
   "cell_type": "code",
   "execution_count": 7,
   "metadata": {},
   "outputs": [
    {
     "name": "stdout",
     "output_type": "stream",
     "text": [
      "\n",
      "======================================================================\n",
      "CREANDO FEATURES DE DISPERSIÓN\n",
      "======================================================================\n",
      "5 features de dispersión creadas\n",
      "\n",
      "Estadísticas de dispersión:\n"
     ]
    },
    {
     "data": {
      "text/html": [
       "<div>\n",
       "<style scoped>\n",
       "    .dataframe tbody tr th:only-of-type {\n",
       "        vertical-align: middle;\n",
       "    }\n",
       "\n",
       "    .dataframe tbody tr th {\n",
       "        vertical-align: top;\n",
       "    }\n",
       "\n",
       "    .dataframe thead th {\n",
       "        text-align: right;\n",
       "    }\n",
       "</style>\n",
       "<table border=\"1\" class=\"dataframe\">\n",
       "  <thead>\n",
       "    <tr style=\"text-align: right;\">\n",
       "      <th></th>\n",
       "      <th>avg_change</th>\n",
       "      <th>avg_pct_change</th>\n",
       "      <th>std_change</th>\n",
       "      <th>prediction_confidence</th>\n",
       "    </tr>\n",
       "  </thead>\n",
       "  <tbody>\n",
       "    <tr>\n",
       "      <th>count</th>\n",
       "      <td>56.000000</td>\n",
       "      <td>56.000000</td>\n",
       "      <td>56.000000</td>\n",
       "      <td>56.000000</td>\n",
       "    </tr>\n",
       "    <tr>\n",
       "      <th>mean</th>\n",
       "      <td>51.658204</td>\n",
       "      <td>21.165882</td>\n",
       "      <td>71.549969</td>\n",
       "      <td>0.018269</td>\n",
       "    </tr>\n",
       "    <tr>\n",
       "      <th>std</th>\n",
       "      <td>64.821342</td>\n",
       "      <td>26.289918</td>\n",
       "      <td>31.428370</td>\n",
       "      <td>0.012238</td>\n",
       "    </tr>\n",
       "    <tr>\n",
       "      <th>min</th>\n",
       "      <td>-99.386257</td>\n",
       "      <td>-26.697756</td>\n",
       "      <td>16.557436</td>\n",
       "      <td>0.007382</td>\n",
       "    </tr>\n",
       "    <tr>\n",
       "      <th>25%</th>\n",
       "      <td>1.599916</td>\n",
       "      <td>0.539715</td>\n",
       "      <td>48.308311</td>\n",
       "      <td>0.010193</td>\n",
       "    </tr>\n",
       "    <tr>\n",
       "      <th>50%</th>\n",
       "      <td>54.032581</td>\n",
       "      <td>18.900416</td>\n",
       "      <td>72.679950</td>\n",
       "      <td>0.013572</td>\n",
       "    </tr>\n",
       "    <tr>\n",
       "      <th>75%</th>\n",
       "      <td>91.868278</td>\n",
       "      <td>38.469099</td>\n",
       "      <td>97.101996</td>\n",
       "      <td>0.020283</td>\n",
       "    </tr>\n",
       "    <tr>\n",
       "      <th>max</th>\n",
       "      <td>190.214829</td>\n",
       "      <td>89.496058</td>\n",
       "      <td>134.464646</td>\n",
       "      <td>0.056956</td>\n",
       "    </tr>\n",
       "  </tbody>\n",
       "</table>\n",
       "</div>"
      ],
      "text/plain": [
       "       avg_change  avg_pct_change  std_change  prediction_confidence\n",
       "count   56.000000       56.000000   56.000000              56.000000\n",
       "mean    51.658204       21.165882   71.549969               0.018269\n",
       "std     64.821342       26.289918   31.428370               0.012238\n",
       "min    -99.386257      -26.697756   16.557436               0.007382\n",
       "25%      1.599916        0.539715   48.308311               0.010193\n",
       "50%     54.032581       18.900416   72.679950               0.013572\n",
       "75%     91.868278       38.469099   97.101996               0.020283\n",
       "max    190.214829       89.496058  134.464646               0.056956"
      ]
     },
     "metadata": {},
     "output_type": "display_data"
    }
   ],
   "source": [
    "print(\"\\n\" + \"=\"*70)\n",
    "print(\"CREANDO FEATURES DE DISPERSIÓN\")\n",
    "print(\"=\"*70)\n",
    "\n",
    "# Cambio promedio predicho\n",
    "change_cols = [f'{model}_change' for model in models]\n",
    "df['avg_change'] = df[change_cols].mean(axis=1)\n",
    "\n",
    "# Cambio porcentual promedio\n",
    "pct_change_cols = [f'{model}_pct_change' for model in models]\n",
    "df['avg_pct_change'] = df[pct_change_cols].mean(axis=1)\n",
    "\n",
    "# Desviación estándar de cambios\n",
    "df['std_change'] = df[change_cols].std(axis=1)\n",
    "df['std_pct_change'] = df[pct_change_cols].std(axis=1)\n",
    "\n",
    "# Confianza de predicción (inversa de la dispersión)\n",
    "df['prediction_confidence'] = 1 / (1 + df['pred_std'])\n",
    "\n",
    "print(f\"5 features de dispersión creadas\")\n",
    "print(f\"\\nEstadísticas de dispersión:\")\n",
    "display(df[['avg_change', 'avg_pct_change', 'std_change', 'prediction_confidence']].describe())"
   ]
  },
  {
   "cell_type": "markdown",
   "metadata": {},
   "source": [
    "## 8. Resumen de Features Creadas"
   ]
  },
  {
   "cell_type": "code",
   "execution_count": 8,
   "metadata": {},
   "outputs": [
    {
     "name": "stdout",
     "output_type": "stream",
     "text": [
      "\n",
      "======================================================================\n",
      "RESUMEN DE FEATURE ENGINEERING\n",
      "======================================================================\n",
      "\n",
      "Total de features creadas: 28\n",
      "Dimensiones finales: (56, 33)\n",
      "\n",
      "Categorías de features:\n",
      "   • Features por modelo (cambio, %, dirección): 9\n",
      "   • Features agregadas (mean, median, std, etc): 6\n",
      "   • Features de consenso (acuerdo, dirección): 5\n",
      "   • Features de dispersión (variabilidad): 5\n",
      "   • Total: 25 features\n"
     ]
    }
   ],
   "source": [
    "print(\"\\n\" + \"=\"*70)\n",
    "print(\"RESUMEN DE FEATURE ENGINEERING\")\n",
    "print(\"=\"*70)\n",
    "\n",
    "total_features = len(df.columns) - 5  # Menos las columnas originales\n",
    "print(f\"\\nTotal de features creadas: {total_features}\")\n",
    "print(f\"Dimensiones finales: {df.shape}\")\n",
    "\n",
    "print(\"\\nCategorías de features:\")\n",
    "print(f\"   • Features por modelo (cambio, %, dirección): {len(models) * 3}\")\n",
    "print(f\"   • Features agregadas (mean, median, std, etc): 6\")\n",
    "print(f\"   • Features de consenso (acuerdo, dirección): 5\")\n",
    "print(f\"   • Features de dispersión (variabilidad): 5\")\n",
    "print(f\"   • Total: {len(models) * 3 + 6 + 5 + 5} features\")"
   ]
  },
  {
   "cell_type": "markdown",
   "metadata": {},
   "source": [
    "## 9. Análisis de Correlación con Variable Objetivo"
   ]
  },
  {
   "cell_type": "code",
   "execution_count": 9,
   "metadata": {},
   "outputs": [
    {
     "name": "stdout",
     "output_type": "stream",
     "text": [
      "\n",
      "Top 10 Features más correlacionadas con dirección real:\n",
      "direction_real         1.000000\n",
      "avg_pct_change         0.610357\n",
      "avg_change             0.602371\n",
      "IPBG4J_pct_change      0.598261\n",
      "IPBG4J_change          0.569129\n",
      "value_at_prediction    0.557008\n",
      "AA6KBD_pct_change      0.483980\n",
      "AA6KBD_change          0.439740\n",
      "consensus_bullish      0.423896\n",
      "IPBG4J_direction       0.416667\n",
      "dtype: float64\n",
      "\n",
      "Bottom 10 Features (correlación negativa):\n",
      "pred_range               0.078629\n",
      "pred_median              0.072929\n",
      "OBONV1_direction         0.034922\n",
      "AA6KBD                  -0.015935\n",
      "prediction_confidence   -0.063442\n",
      "OBONV1                  -0.063894\n",
      "direction_agreement     -0.319809\n",
      "consensus_bearish       -0.423896\n",
      "value_at_request        -0.575858\n",
      "consensus_mixed               NaN\n",
      "dtype: float64\n"
     ]
    }
   ],
   "source": [
    "# Seleccionar solo columnas numéricas\n",
    "numeric_cols = df.select_dtypes(include=[np.number]).columns.tolist()\n",
    "numeric_cols = [col for col in numeric_cols if col not in ['date_requested', 'date_prediction']]\n",
    "\n",
    "# Calcular correlación con variable objetivo\n",
    "corr_with_target = df[numeric_cols].corrwith(df['direction_real']).sort_values(ascending=False)\n",
    "\n",
    "print(\"\\nTop 10 Features más correlacionadas con dirección real:\")\n",
    "print(corr_with_target.head(10))\n",
    "\n",
    "print(\"\\nBottom 10 Features (correlación negativa):\")\n",
    "print(corr_with_target.tail(10))"
   ]
  },
  {
   "cell_type": "code",
   "execution_count": 10,
   "metadata": {},
   "outputs": [
    {
     "data": {
      "image/png": "[encoded data removed]",
      "text/plain": [
       "<Figure size 1600x600 with 2 Axes>"
      ]
     },
     "metadata": {},
     "output_type": "display_data"
    },
    {
     "name": "stdout",
     "output_type": "stream",
     "text": [
      "\n",
      "Grafico guardado\n"
     ]
    }
   ],
   "source": [
    "# Visualizar correlaciones\n",
    "fig, axes = plt.subplots(1, 2, figsize=(16, 6))\n",
    "\n",
    "# Top features positivas\n",
    "top_10 = corr_with_target.head(10)\n",
    "colors_pos = ['green' if x > 0 else 'red' for x in top_10]\n",
    "axes[0].barh(range(len(top_10)), top_10.values, color=colors_pos, alpha=0.7, edgecolor='black')\n",
    "axes[0].set_yticks(range(len(top_10)))\n",
    "axes[0].set_yticklabels(top_10.index, fontsize=9)\n",
    "axes[0].set_title('Top 10 Features Más Correlacionadas', fontsize=13, fontweight='bold')\n",
    "axes[0].set_xlabel('Correlación con direction_real', fontsize=11)\n",
    "axes[0].axvline(x=0, color='black', linestyle='-', linewidth=0.8)\n",
    "axes[0].grid(True, alpha=0.3, axis='x')\n",
    "\n",
    "# Bottom features negativas\n",
    "bottom_10 = corr_with_target.tail(10)\n",
    "colors_neg = ['green' if x > 0 else 'red' for x in bottom_10]\n",
    "axes[1].barh(range(len(bottom_10)), bottom_10.values, color=colors_neg, alpha=0.7, edgecolor='black')\n",
    "axes[1].set_yticks(range(len(bottom_10)))\n",
    "axes[1].set_yticklabels(bottom_10.index, fontsize=9)\n",
    "axes[1].set_title('Features con Mayor Correlación Negativa', fontsize=13, fontweight='bold')\n",
    "axes[1].set_xlabel('Correlación con direction_real', fontsize=11)\n",
    "axes[1].axvline(x=0, color='black', linestyle='-', linewidth=0.8)\n",
    "axes[1].grid(True, alpha=0.3, axis='x')\n",
    "\n",
    "plt.tight_layout()\n",
    "plt.savefig('../outputs/figures/05_correlacion_features.png', dpi=300, bbox_inches='tight')\n",
    "plt.show()\n",
    "\n",
    "print(\"\\nGrafico guardado\")"
   ]
  },
  {
   "cell_type": "markdown",
   "metadata": {},
   "source": [
    "## 10. Guardar Dataset Final"
   ]
  },
  {
   "cell_type": "code",
   "execution_count": 11,
   "metadata": {},
   "outputs": [
    {
     "name": "stdout",
     "output_type": "stream",
     "text": [
      "\n",
      "======================================================================\n",
      "DATASET FINAL GUARDADO\n",
      "======================================================================\n",
      "\n",
      "Archivo: ../data/processed/dataset_final.csv\n",
      "Dimensiones: (56, 33)\n",
      "Total de features: 28\n",
      "\n",
      "Dataset final guardado exitosamente\n"
     ]
    }
   ],
   "source": [
    "# Guardar dataset con todas las features\n",
    "output_file = '../data/processed/dataset_final.csv'\n",
    "df.to_csv(output_file, index=False)\n",
    "\n",
    "print(\"\\n\" + \"=\"*70)\n",
    "print(\"DATASET FINAL GUARDADO\")\n",
    "print(\"=\"*70)\n",
    "print(f\"\\nArchivo: {output_file}\")\n",
    "print(f\"Dimensiones: {df.shape}\")\n",
    "print(f\"Total de features: {len(df.columns) - 5}\")\n",
    "print(\"\\nDataset final guardado exitosamente\")"
   ]
  }
 ],
 "metadata": {
  "kernelspec": {
   "display_name": "Python 3",
   "language": "python",
   "name": "python3"
  },
  "language_info": {
   "codemirror_mode": {
    "name": "ipython",
    "version": 3
   },
   "file_extension": ".py",
   "mimetype": "text/x-python",
   "name": "python",
   "nbconvert_exporter": "python",
   "pygments_lexer": "ipython3",
   "version": "3.14.0"
  }
 },
 "nbformat": 4,
 "nbformat_minor": 4
}
