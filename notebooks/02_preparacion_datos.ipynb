{
 "cells": [
  {
   "cell_type": "markdown",
   "metadata": {},
   "source": [
    "# Notebook 02: Preparación de Datos\n",
    "\n",
    "**Prueba Técnica - Modelador Junior**\n",
    "\n",
    "---\n",
    "\n",
    "## Objetivo\n",
    "\n",
    "Preparar el dataset para el modelado:\n",
    "1. Filtrar predicciones a 4 semanas de diferencia\n",
    "2. Pivotar predicciones para tener un modelo por columna\n",
    "3. Unir con valores reales\n",
    "4. Crear variable objetivo: dirección del precio\n",
    "\n",
    "**Variable Objetivo**: `direccion_real = 1` si `precio_real_futuro > precio_actual`, `0` si no.\n",
    "\n",
    "---\n",
    "\n",
    "## 1. Imports y Configuración"
   ]
  },
  {
   "cell_type": "code",
   "execution_count": 17,
   "metadata": {},
   "outputs": [
    {
     "name": "stdout",
     "output_type": "stream",
     "text": [
      "Librerías cargadas\n"
     ]
    }
   ],
   "source": [
    "import pandas as pd\n",
    "import numpy as np\n",
    "import matplotlib.pyplot as plt\n",
    "import seaborn as sns\n",
    "import warnings\n",
    "\n",
    "warnings.filterwarnings('ignore')\n",
    "sns.set_style('whitegrid')\n",
    "np.random.seed(42)\n",
    "\n",
    "print(\"Librerías cargadas\")"
   ]
  },
  {
   "cell_type": "markdown",
   "metadata": {},
   "source": [
    "## 2. Carga de Datos"
   ]
  },
  {
   "cell_type": "code",
   "execution_count": 18,
   "metadata": {},
   "outputs": [
    {
     "name": "stdout",
     "output_type": "stream",
     "text": [
      "Datos reales: (66, 7)\n",
      "Datos predichos: (1704, 9)\n"
     ]
    }
   ],
   "source": [
    "# Cargar datos\n",
    "excel_file = '../data/raw/ReportDataALL_20250404 (1).xlsx'\n",
    "df_real = pd.read_excel(excel_file, sheet_name='Real')\n",
    "df_predicted = pd.read_excel(excel_file, sheet_name='Predicted')\n",
    "\n",
    "print(f\"Datos reales: {df_real.shape}\")\n",
    "print(f\"Datos predichos: {df_predicted.shape}\")"
   ]
  },
  {
   "cell_type": "markdown",
   "metadata": {},
   "source": [
    "## 3. Filtrado de diferencia Temporal (4 Semanas)"
   ]
  },
  {
   "cell_type": "code",
   "execution_count": null,
   "metadata": {},
   "outputs": [
    {
     "name": "stdout",
     "output_type": "stream",
     "text": [
      "======================================================================\n",
      "FILTRADO A 4 SEMANAS\n",
      "======================================================================\n",
      "\n",
      "Registros originales: 1,704\n",
      "Registros filtrados: 228\n",
      "Fechas únicas de solicitud: 56\n",
      "\n",
      "Predicciones por modelo:\n",
      "model\n",
      "AA6KBD    86\n",
      "HFWV8N    26\n",
      "IPBG4J    43\n",
      "LFHXNV    17\n",
      "OBONV1    56\n",
      "Name: count, dtype: int64\n"
     ]
    }
   ],
   "source": [
    "# Calcular la diferencia temporal\n",
    "df_predicted['diference_days'] = (df_predicted['date_prediction'] - df_predicted['date_requested']).dt.days\n",
    "\n",
    "# Filtrar a 4 semanas +- 1 dia de tolerancia\n",
    "df_4weeks = df_predicted[\n",
    "    (df_predicted['diference_days'] >= 27) & \n",
    "    (df_predicted['diference_days'] <= 29)\n",
    "].copy()\n",
    "\n",
    "print(\"=\"*70)\n",
    "print(\"FILTRADO A 4 SEMANAS\")\n",
    "print(\"=\"*70)\n",
    "print(f\"\\nRegistros originales: {len(df_predicted):,}\")\n",
    "print(f\"Registros filtrados: {len(df_4weeks):,}\")\n",
    "print(f\"Fechas únicas de solicitud: {df_4weeks['date_requested'].nunique()}\")\n",
    "\n",
    "print(\"\\nPredicciones por modelo:\")\n",
    "print(df_4weeks['model'].value_counts().sort_index())"
   ]
  },
  {
   "cell_type": "markdown",
   "metadata": {},
   "source": [
    "## 4. Pivoteo de Predicciones\n",
    "\n",
    "Convertir de formato largo a formato ancho (un modelo por columna)."
   ]
  },
  {
   "cell_type": "code",
   "execution_count": 26,
   "metadata": {},
   "outputs": [
    {
     "name": "stdout",
     "output_type": "stream",
     "text": [
      "\n",
      "Dataset pivotado:\n",
      "   Filas: 56\n",
      "   Columnas: 7\n",
      "\n",
      "   Columnas: ['date_requested', 'date_prediction', 'AA6KBD', 'HFWV8N', 'IPBG4J', 'LFHXNV', 'OBONV1']\n"
     ]
    },
    {
     "data": {
      "text/html": [
       "<div>\n",
       "<style scoped>\n",
       "    .dataframe tbody tr th:only-of-type {\n",
       "        vertical-align: middle;\n",
       "    }\n",
       "\n",
       "    .dataframe tbody tr th {\n",
       "        vertical-align: top;\n",
       "    }\n",
       "\n",
       "    .dataframe thead th {\n",
       "        text-align: right;\n",
       "    }\n",
       "</style>\n",
       "<table border=\"1\" class=\"dataframe\">\n",
       "  <thead>\n",
       "    <tr style=\"text-align: right;\">\n",
       "      <th>model</th>\n",
       "      <th>date_requested</th>\n",
       "      <th>date_prediction</th>\n",
       "      <th>AA6KBD</th>\n",
       "      <th>HFWV8N</th>\n",
       "      <th>IPBG4J</th>\n",
       "      <th>LFHXNV</th>\n",
       "      <th>OBONV1</th>\n",
       "    </tr>\n",
       "  </thead>\n",
       "  <tbody>\n",
       "    <tr>\n",
       "      <th>0</th>\n",
       "      <td>2024-03-07</td>\n",
       "      <td>2024-04-04</td>\n",
       "      <td>NaN</td>\n",
       "      <td>NaN</td>\n",
       "      <td>NaN</td>\n",
       "      <td>NaN</td>\n",
       "      <td>488.738378</td>\n",
       "    </tr>\n",
       "    <tr>\n",
       "      <th>1</th>\n",
       "      <td>2024-03-14</td>\n",
       "      <td>2024-04-11</td>\n",
       "      <td>NaN</td>\n",
       "      <td>NaN</td>\n",
       "      <td>NaN</td>\n",
       "      <td>NaN</td>\n",
       "      <td>265.336645</td>\n",
       "    </tr>\n",
       "    <tr>\n",
       "      <th>2</th>\n",
       "      <td>2024-03-21</td>\n",
       "      <td>2024-04-18</td>\n",
       "      <td>NaN</td>\n",
       "      <td>NaN</td>\n",
       "      <td>NaN</td>\n",
       "      <td>NaN</td>\n",
       "      <td>394.036593</td>\n",
       "    </tr>\n",
       "    <tr>\n",
       "      <th>3</th>\n",
       "      <td>2024-03-28</td>\n",
       "      <td>2024-04-25</td>\n",
       "      <td>NaN</td>\n",
       "      <td>NaN</td>\n",
       "      <td>NaN</td>\n",
       "      <td>NaN</td>\n",
       "      <td>319.777665</td>\n",
       "    </tr>\n",
       "    <tr>\n",
       "      <th>4</th>\n",
       "      <td>2024-04-04</td>\n",
       "      <td>2024-05-02</td>\n",
       "      <td>NaN</td>\n",
       "      <td>NaN</td>\n",
       "      <td>NaN</td>\n",
       "      <td>NaN</td>\n",
       "      <td>277.921764</td>\n",
       "    </tr>\n",
       "  </tbody>\n",
       "</table>\n",
       "</div>"
      ],
      "text/plain": [
       "model date_requested date_prediction  AA6KBD  HFWV8N  IPBG4J  LFHXNV  \\\n",
       "0         2024-03-07      2024-04-04     NaN     NaN     NaN     NaN   \n",
       "1         2024-03-14      2024-04-11     NaN     NaN     NaN     NaN   \n",
       "2         2024-03-21      2024-04-18     NaN     NaN     NaN     NaN   \n",
       "3         2024-03-28      2024-04-25     NaN     NaN     NaN     NaN   \n",
       "4         2024-04-04      2024-05-02     NaN     NaN     NaN     NaN   \n",
       "\n",
       "model      OBONV1  \n",
       "0      488.738378  \n",
       "1      265.336645  \n",
       "2      394.036593  \n",
       "3      319.777665  \n",
       "4      277.921764  "
      ]
     },
     "metadata": {},
     "output_type": "display_data"
    }
   ],
   "source": [
    "# Pivotar: cada modelo en su propia columna\n",
    "df_pivot = df_4weeks.pivot_table(\n",
    "    index=['date_requested', 'date_prediction'],\n",
    "    columns='model',\n",
    "    values='prediction'\n",
    ").reset_index()\n",
    "\n",
    "print(\"\\nDataset pivotado:\")\n",
    "print(f\"   Filas: {len(df_pivot)}\")\n",
    "print(f\"   Columnas: {len(df_pivot.columns)}\")\n",
    "print(f\"\\n   Columnas: {list(df_pivot.columns)}\")\n",
    "\n",
    "display(df_pivot.head())"
   ]
  },
  {
   "cell_type": "markdown",
   "metadata": {},
   "source": [
    "## 5. Unión con Valores Reales\n",
    "\n",
    "Necesitamos:\n",
    "- Precio al momento del request (`value_at_request`)\n",
    "- Precio 4 semanas después (`value_at_prediction`)"
   ]
  },
  {
   "cell_type": "code",
   "execution_count": 27,
   "metadata": {},
   "outputs": [
    {
     "name": "stdout",
     "output_type": "stream",
     "text": [
      "\n",
      "Dataset después del merge:\n",
      "   Filas: 56\n",
      "   Columnas: 9\n",
      "\n",
      "Valores nulos encontrados:\n",
      "AA6KBD                 13\n",
      "HFWV8N                 30\n",
      "IPBG4J                 13\n",
      "LFHXNV                 39\n",
      "value_at_prediction     5\n",
      "dtype: int64\n"
     ]
    },
    {
     "data": {
      "text/html": [
       "<div>\n",
       "<style scoped>\n",
       "    .dataframe tbody tr th:only-of-type {\n",
       "        vertical-align: middle;\n",
       "    }\n",
       "\n",
       "    .dataframe tbody tr th {\n",
       "        vertical-align: top;\n",
       "    }\n",
       "\n",
       "    .dataframe thead th {\n",
       "        text-align: right;\n",
       "    }\n",
       "</style>\n",
       "<table border=\"1\" class=\"dataframe\">\n",
       "  <thead>\n",
       "    <tr style=\"text-align: right;\">\n",
       "      <th></th>\n",
       "      <th>date_requested</th>\n",
       "      <th>date_prediction</th>\n",
       "      <th>AA6KBD</th>\n",
       "      <th>HFWV8N</th>\n",
       "      <th>IPBG4J</th>\n",
       "      <th>LFHXNV</th>\n",
       "      <th>OBONV1</th>\n",
       "      <th>value_at_request</th>\n",
       "      <th>value_at_prediction</th>\n",
       "    </tr>\n",
       "  </thead>\n",
       "  <tbody>\n",
       "    <tr>\n",
       "      <th>0</th>\n",
       "      <td>2024-03-07</td>\n",
       "      <td>2024-04-04</td>\n",
       "      <td>NaN</td>\n",
       "      <td>NaN</td>\n",
       "      <td>NaN</td>\n",
       "      <td>NaN</td>\n",
       "      <td>488.738378</td>\n",
       "      <td>212.539897</td>\n",
       "      <td>229.151629</td>\n",
       "    </tr>\n",
       "    <tr>\n",
       "      <th>1</th>\n",
       "      <td>2024-03-14</td>\n",
       "      <td>2024-04-11</td>\n",
       "      <td>NaN</td>\n",
       "      <td>NaN</td>\n",
       "      <td>NaN</td>\n",
       "      <td>NaN</td>\n",
       "      <td>265.336645</td>\n",
       "      <td>222.152215</td>\n",
       "      <td>256.599110</td>\n",
       "    </tr>\n",
       "    <tr>\n",
       "      <th>2</th>\n",
       "      <td>2024-03-21</td>\n",
       "      <td>2024-04-18</td>\n",
       "      <td>NaN</td>\n",
       "      <td>NaN</td>\n",
       "      <td>NaN</td>\n",
       "      <td>NaN</td>\n",
       "      <td>394.036593</td>\n",
       "      <td>277.409972</td>\n",
       "      <td>377.644728</td>\n",
       "    </tr>\n",
       "    <tr>\n",
       "      <th>3</th>\n",
       "      <td>2024-03-28</td>\n",
       "      <td>2024-04-25</td>\n",
       "      <td>NaN</td>\n",
       "      <td>NaN</td>\n",
       "      <td>NaN</td>\n",
       "      <td>NaN</td>\n",
       "      <td>319.777665</td>\n",
       "      <td>237.324075</td>\n",
       "      <td>334.578301</td>\n",
       "    </tr>\n",
       "    <tr>\n",
       "      <th>4</th>\n",
       "      <td>2024-04-04</td>\n",
       "      <td>2024-05-02</td>\n",
       "      <td>NaN</td>\n",
       "      <td>NaN</td>\n",
       "      <td>NaN</td>\n",
       "      <td>NaN</td>\n",
       "      <td>277.921764</td>\n",
       "      <td>229.151629</td>\n",
       "      <td>304.996921</td>\n",
       "    </tr>\n",
       "  </tbody>\n",
       "</table>\n",
       "</div>"
      ],
      "text/plain": [
       "  date_requested date_prediction  AA6KBD  HFWV8N  IPBG4J  LFHXNV      OBONV1  \\\n",
       "0     2024-03-07      2024-04-04     NaN     NaN     NaN     NaN  488.738378   \n",
       "1     2024-03-14      2024-04-11     NaN     NaN     NaN     NaN  265.336645   \n",
       "2     2024-03-21      2024-04-18     NaN     NaN     NaN     NaN  394.036593   \n",
       "3     2024-03-28      2024-04-25     NaN     NaN     NaN     NaN  319.777665   \n",
       "4     2024-04-04      2024-05-02     NaN     NaN     NaN     NaN  277.921764   \n",
       "\n",
       "   value_at_request  value_at_prediction  \n",
       "0        212.539897           229.151629  \n",
       "1        222.152215           256.599110  \n",
       "2        277.409972           377.644728  \n",
       "3        237.324075           334.578301  \n",
       "4        229.151629           304.996921  "
      ]
     },
     "metadata": {},
     "output_type": "display_data"
    }
   ],
   "source": [
    "# Merge para obtener precio al momento del request\n",
    "df_merged = df_pivot.merge(\n",
    "    df_real[['date', 'value']],\n",
    "    left_on='date_requested',\n",
    "    right_on='date',\n",
    "    how='left'\n",
    ").drop('date', axis=1)\n",
    "\n",
    "df_merged = df_merged.rename(columns={'value': 'value_at_request'})\n",
    "\n",
    "# Merge para obtener precio en la fecha de predicción\n",
    "df_merged = df_merged.merge(\n",
    "    df_real[['date', 'value']],\n",
    "    left_on='date_prediction',\n",
    "    right_on='date',\n",
    "    how='left'\n",
    ").drop('date', axis=1)\n",
    "\n",
    "df_merged = df_merged.rename(columns={'value': 'value_at_prediction'})\n",
    "\n",
    "print(\"\\nDataset después del merge:\")\n",
    "print(f\"   Filas: {len(df_merged)}\")\n",
    "print(f\"   Columnas: {len(df_merged.columns)}\")\n",
    "\n",
    "# Verificar nulos\n",
    "nulls = df_merged.isnull().sum()\n",
    "if nulls.sum() > 0:\n",
    "    print(\"\\nValores nulos encontrados:\")\n",
    "    print(nulls[nulls > 0])\n",
    "else:\n",
    "    print(\"\\n✓ No hay valores nulos\")\n",
    "\n",
    "display(df_merged.head())"
   ]
  },
  {
   "cell_type": "markdown",
   "metadata": {},
   "source": [
    "## 6. Creación de Variable Objetivo\n",
    "\n",
    "Según los requisitos de la prueba:\n",
    "- `direccion_real = 1` si el precio SUBIÓ (valor_futuro > valor_actual)\n",
    "- `direccion_real = 0` si el precio BAJÓ o se mantuvo (valor_futuro ≤ valor_actual)"
   ]
  },
  {
   "cell_type": "code",
   "execution_count": 29,
   "metadata": {},
   "outputs": [
    {
     "name": "stdout",
     "output_type": "stream",
     "text": [
      "\n",
      "======================================================================\n",
      "VARIABLE OBJETIVO CREADA\n",
      "======================================================================\n",
      "\n",
      "Distribución de la variable objetivo:\n",
      "\n",
      "   Clase 0 (Bajada): 32 (57.1%)\n",
      "   Clase 1 (Subida): 24 (42.9%)\n",
      "\n",
      "Balance de clases: 0.75\n",
      "Dataset razonablemente balanceado\n"
     ]
    }
   ],
   "source": [
    "# Crear variable objetivo\n",
    "df_merged['direction_real'] = (df_merged['value_at_prediction'] > df_merged['value_at_request']).astype(int)\n",
    "\n",
    "print(\"\\n\" + \"=\"*70)\n",
    "print(\"VARIABLE OBJETIVO CREADA\")\n",
    "print(\"=\"*70)\n",
    "\n",
    "# Distribución de clases\n",
    "print(\"\\nDistribución de la variable objetivo:\")\n",
    "value_counts = df_merged['direction_real'].value_counts().sort_index()\n",
    "print(f\"\\n   Clase 0 (Bajada): {value_counts.get(0, 0)} ({value_counts.get(0, 0)/len(df_merged)*100:.1f}%)\")\n",
    "print(f\"   Clase 1 (Subida): {value_counts.get(1, 0)} ({value_counts.get(1, 0)/len(df_merged)*100:.1f}%)\")\n",
    "\n",
    "# Balance de clases\n",
    "if len(value_counts) > 1:\n",
    "    balance = min(value_counts) / max(value_counts)\n",
    "    print(f\"\\nBalance de clases: {balance:.2f}\")\n",
    "    if balance < 0.7:\n",
    "        print(\"Dataset ligeramente desbalanceado (considerar class_weight)\")\n",
    "    else:\n",
    "        print(\"Dataset razonablemente balanceado\")"
   ]
  },
  {
   "cell_type": "code",
   "execution_count": 31,
   "metadata": {},
   "outputs": [
    {
     "data": {
      "image/png": "[encoded data removed]",
      "text/plain": [
       "<Figure size 1400x500 with 2 Axes>"
      ]
     },
     "metadata": {},
     "output_type": "display_data"
    },
    {
     "name": "stdout",
     "output_type": "stream",
     "text": [
      "\n",
      "Grafica guardada\n"
     ]
    }
   ],
   "source": [
    "# Visualizar cambio de precios\n",
    "df_merged['price_change'] = df_merged['value_at_prediction'] - df_merged['value_at_request']\n",
    "df_merged['price_change_pct'] = (df_merged['price_change'] / df_merged['value_at_request']) * 100\n",
    "\n",
    "fig, axes = plt.subplots(1, 2, figsize=(14, 5))\n",
    "\n",
    "# Grafico 1: Distribución de cambios\n",
    "colors = ['red' if x < 0 else 'green' for x in df_merged['price_change']]\n",
    "axes[0].bar(range(len(df_merged)), df_merged['price_change'], color=colors, alpha=0.7, edgecolor='black')\n",
    "axes[0].axhline(y=0, color='black', linestyle='-', linewidth=1)\n",
    "axes[0].set_title('Cambio de Precio (Futuro - Actual)', fontsize=13, fontweight='bold')\n",
    "axes[0].set_xlabel('Observación', fontsize=11)\n",
    "axes[0].set_ylabel('Cambio ($)', fontsize=11)\n",
    "axes[0].grid(True, alpha=0.3, axis='y')\n",
    "\n",
    "# Grafico 2: Distribución porcentual\n",
    "axes[1].hist(df_merged['price_change_pct'], bins=15, color='#2E86AB', alpha=0.7, edgecolor='black')\n",
    "axes[1].axvline(x=0, color='red', linestyle='--', linewidth=2, label='Sin cambio')\n",
    "axes[1].set_title('Distribución del Cambio Porcentual', fontsize=13, fontweight='bold')\n",
    "axes[1].set_xlabel('Cambio (%)', fontsize=11)\n",
    "axes[1].set_ylabel('Frecuencia', fontsize=11)\n",
    "axes[1].legend()\n",
    "axes[1].grid(True, alpha=0.3, axis='y')\n",
    "\n",
    "plt.tight_layout()\n",
    "plt.savefig('../outputs/figures/04_cambios_precio.png', dpi=300, bbox_inches='tight')\n",
    "plt.show()\n",
    "\n",
    "print(\"\\nGrafica guardada\")"
   ]
  },
  {
   "cell_type": "markdown",
   "metadata": {},
   "source": [
    "## 7. Verificaciones Finales"
   ]
  },
  {
   "cell_type": "code",
   "execution_count": 33,
   "metadata": {},
   "outputs": [
    {
     "name": "stdout",
     "output_type": "stream",
     "text": [
      "\n",
      "======================================================================\n",
      "VERIFICACIONES FINALES\n",
      "======================================================================\n",
      "\n",
      "1. Valores nulos por columna:\n",
      "AA6KBD                 13\n",
      "HFWV8N                 30\n",
      "IPBG4J                 13\n",
      "LFHXNV                 39\n",
      "value_at_prediction     5\n",
      "price_change            5\n",
      "price_change_pct        5\n",
      "dtype: int64\n",
      "\n",
      "2. Verificar duplicados:\n",
      "No hay filas duplicadas\n",
      "\n",
      "3. Tipos de datos:\n",
      "date_requested         datetime64[ns]\n",
      "date_prediction        datetime64[ns]\n",
      "AA6KBD                        float64\n",
      "HFWV8N                        float64\n",
      "IPBG4J                        float64\n",
      "LFHXNV                        float64\n",
      "OBONV1                        float64\n",
      "value_at_request              float64\n",
      "value_at_prediction           float64\n",
      "direction_real                  int64\n",
      "price_change                  float64\n",
      "price_change_pct              float64\n",
      "dtype: object\n",
      "\n",
      "4. Estadísticas de precios:\n",
      "   Precio actual - Media: $303.87\n",
      "   Precio futuro - Media: $309.44\n",
      "   Cambio promedio: $+5.80 (+5.78%)\n"
     ]
    }
   ],
   "source": [
    "print(\"\\n\" + \"=\"*70)\n",
    "print(\"VERIFICACIONES FINALES\")\n",
    "print(\"=\"*70)\n",
    "\n",
    "# 1. Valores nulos\n",
    "print(\"\\n1. Valores nulos por columna:\")\n",
    "nulls = df_merged.isnull().sum()\n",
    "if nulls.sum() == 0:\n",
    "    print(\"No hay valores nulos\")\n",
    "else:\n",
    "    print(nulls[nulls > 0])\n",
    "\n",
    "# 2. Duplicados\n",
    "print(\"\\n2. Verificar duplicados:\")\n",
    "duplicates = df_merged.duplicated().sum()\n",
    "if duplicates == 0:\n",
    "    print(f\"No hay filas duplicadas\")\n",
    "else:\n",
    "    print(f\"{duplicates} filas duplicadas encontradas\")\n",
    "\n",
    "# 3. Tipos de datos\n",
    "print(\"\\n3. Tipos de datos:\")\n",
    "print(df_merged.dtypes)\n",
    "\n",
    "# 4. Estadísticas básicas\n",
    "print(\"\\n4. Estadísticas de precios:\")\n",
    "print(f\"   Precio actual - Media: ${df_merged['value_at_request'].mean():.2f}\")\n",
    "print(f\"   Precio futuro - Media: ${df_merged['value_at_prediction'].mean():.2f}\")\n",
    "print(f\"   Cambio promedio: ${df_merged['price_change'].mean():+.2f} ({df_merged['price_change_pct'].mean():+.2f}%)\")"
   ]
  },
  {
   "cell_type": "markdown",
   "metadata": {},
   "source": [
    "## 8. Guardar Dataset Procesado"
   ]
  },
  {
   "cell_type": "code",
   "execution_count": 35,
   "metadata": {},
   "outputs": [
    {
     "name": "stdout",
     "output_type": "stream",
     "text": [
      "\n",
      "======================================================================\n",
      "DATASET GUARDADO\n",
      "======================================================================\n",
      "\n",
      "Archivo: ../data/processed/dataset_completo.csv\n",
      "Dimensiones: (56, 10)\n",
      "Columnas: ['date_requested', 'date_prediction', 'value_at_request', 'value_at_prediction', 'direction_real', 'AA6KBD', 'HFWV8N', 'IPBG4J', 'LFHXNV', 'OBONV1']\n",
      "\n",
      "Dataset completo guardado\n"
     ]
    }
   ],
   "source": [
    "# Seleccionar columnas relevantes para guardar\n",
    "models_cols = ['AA6KBD', 'HFWV8N', 'IPBG4J', 'LFHXNV', 'OBONV1']\n",
    "\n",
    "df_to_save = df_merged[[\n",
    "    'date_requested', 'date_prediction',\n",
    "    'value_at_request', 'value_at_prediction',\n",
    "    'direction_real'\n",
    "] + models_cols].copy()\n",
    "\n",
    "# Guardar\n",
    "output_file = '../data/processed/dataset_completo.csv'\n",
    "df_to_save.to_csv(output_file, index=False)\n",
    "\n",
    "print(\"\\n\" + \"=\"*70)\n",
    "print(\"DATASET GUARDADO\")\n",
    "print(\"=\"*70)\n",
    "print(f\"\\nArchivo: {output_file}\")\n",
    "print(f\"Dimensiones: {df_to_save.shape}\")\n",
    "print(f\"Columnas: {list(df_to_save.columns)}\")\n",
    "print(\"\\nDataset completo guardado\")"
   ]
  }
 ],
 "metadata": {
  "kernelspec": {
   "display_name": "Python 3",
   "language": "python",
   "name": "python3"
  },
  "language_info": {
   "codemirror_mode": {
    "name": "ipython",
    "version": 3
   },
   "file_extension": ".py",
   "mimetype": "text/x-python",
   "name": "python",
   "nbconvert_exporter": "python",
   "pygments_lexer": "ipython3",
   "version": "3.14.0"
  }
 },
 "nbformat": 4,
 "nbformat_minor": 4
}
