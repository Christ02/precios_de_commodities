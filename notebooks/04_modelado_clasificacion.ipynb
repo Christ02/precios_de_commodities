{
 "cells": [
  {
   "cell_type": "markdown",
   "metadata": {},
   "source": [
    "# Notebook 04: Modelado y Clasificación\n",
    "\n",
    "**Prueba Técnica - Modelador Junior**"
   ]
  },
  {
   "cell_type": "code",
   "execution_count": 1,
   "metadata": {},
   "outputs": [
    {
     "name": "stdout",
     "output_type": "stream",
     "text": [
      "Librerías cargadas correctamente\n"
     ]
    }
   ],
   "source": [
    "# Imports\n",
    "import pandas as pd\n",
    "import numpy as np\n",
    "import matplotlib.pyplot as plt\n",
    "import seaborn as sns\n",
    "from sklearn.model_selection import train_test_split\n",
    "from sklearn.preprocessing import StandardScaler\n",
    "from sklearn.linear_model import LogisticRegression\n",
    "from sklearn.ensemble import RandomForestClassifier\n",
    "from sklearn.metrics import accuracy_score, precision_score, recall_score, f1_score, r2_score, confusion_matrix, classification_report\n",
    "import joblib\n",
    "import warnings\n",
    "\n",
    "# Configuración\n",
    "warnings.filterwarnings('ignore')\n",
    "sns.set_style('whitegrid')\n",
    "plt.rcParams['figure.figsize'] = (12, 6)\n",
    "np.random.seed(42)\n",
    "\n",
    "print(\"Librerías cargadas correctamente\")"
   ]
  },
  {
   "cell_type": "code",
   "execution_count": 2,
   "metadata": {},
   "outputs": [
    {
     "name": "stdout",
     "output_type": "stream",
     "text": [
      "Dataset: (56, 33)\n"
     ]
    }
   ],
   "source": [
    "df = pd.read_csv('../data/processed/dataset_final.csv')\n",
    "df['date_requested'] = pd.to_datetime(df['date_requested'])\n",
    "df['date_prediction'] = pd.to_datetime(df['date_prediction'])\n",
    "print(f'Dataset: {df.shape}')"
   ]
  },
  {
   "cell_type": "code",
   "execution_count": 3,
   "metadata": {},
   "outputs": [
    {
     "name": "stdout",
     "output_type": "stream",
     "text": [
      "X: (56, 28), y: (56,)\n"
     ]
    }
   ],
   "source": [
    "exclude = ['date_requested', 'date_prediction', 'direction_real', 'value_at_request', 'value_at_prediction']\n",
    "X = df[[c for c in df.columns if c not in exclude]]\n",
    "y = df['direction_real']\n",
    "print(f'X: {X.shape}, y: {y.shape}')"
   ]
  },
  {
   "cell_type": "code",
   "execution_count": 6,
   "metadata": {},
   "outputs": [
    {
     "name": "stdout",
     "output_type": "stream",
     "text": [
      "Valores nulos en X: 0\n",
      "\n",
      "Train: (39, 28), Test: (17, 28)\n",
      "Proporcion train/test: 69.6% / 30.4%\n"
     ]
    }
   ],
   "source": [
    "# Verificar valores nulos\n",
    "print(f'Valores nulos en X: {X.isnull().sum().sum()}')\n",
    "\n",
    "# Split temporal (70% train, 30% test )\n",
    "X_train, X_test, y_train, y_test = train_test_split(\n",
    "    X, y, \n",
    "    test_size=0.3, \n",
    "    shuffle=False, \n",
    "    random_state=42)\n",
    "\n",
    "print(f'\\nTrain: {X_train.shape}, Test: {X_test.shape}')\n",
    "print(f'Proporcion train/test: {len(X_train)/len(X):.1%} / {len(X_test)/len(X):.1%}')"
   ]
  },
  {
   "cell_type": "code",
   "execution_count": 7,
   "metadata": {},
   "outputs": [
    {
     "name": "stdout",
     "output_type": "stream",
     "text": [
      "Scaled\n"
     ]
    }
   ],
   "source": [
    "scaler = StandardScaler()\n",
    "X_train_scaled = scaler.fit_transform(X_train)\n",
    "X_test_scaled = scaler.transform(X_test)\n",
    "print('Scaled')"
   ]
  },
  {
   "cell_type": "markdown",
   "metadata": {},
   "source": [
    "## Logistic Regression"
   ]
  },
  {
   "cell_type": "code",
   "execution_count": 8,
   "metadata": {},
   "outputs": [],
   "source": [
    "lr = LogisticRegression(\n",
    "    random_state=42, \n",
    "    max_iter=1000)\n",
    "lr.fit(X_train_scaled, y_train)\n",
    "y_pred_lr = lr.predict(X_test_scaled)\n",
    "y_proba_lr = lr.predict_proba(X_test_scaled)[:, 1]"
   ]
  },
  {
   "cell_type": "code",
   "execution_count": 29,
   "metadata": {},
   "outputs": [
    {
     "name": "stdout",
     "output_type": "stream",
     "text": [
      "LOGISTIC REGRESSION\n",
      "Accuracy: 0.65\n",
      "Precision: 0.40\n",
      "Recall: 0.40\n",
      "F1: 0.40\n",
      "R2: -0.46\n"
     ]
    }
   ],
   "source": [
    "print('LOGISTIC REGRESSION')\n",
    "print(f'Accuracy: {accuracy_score(y_test, y_pred_lr):.2f}')\n",
    "print(f'Precision: {precision_score(y_test, y_pred_lr, zero_division=0):.2f}')\n",
    "print(f'Recall: {recall_score(y_test, y_pred_lr, zero_division=0):.2f}')\n",
    "print(f'F1: {f1_score(y_test, y_pred_lr, zero_division=0):.2f}')\n",
    "print(f'R2: {r2_score(y_test, y_proba_lr):.2f}')\n",
    "\n",
    "cm_lr = confusion_matrix(y_test, y_pred_lr)\n"
   ]
  },
  {
   "cell_type": "markdown",
   "metadata": {},
   "source": [
    "## Random Forest"
   ]
  },
  {
   "cell_type": "code",
   "execution_count": 14,
   "metadata": {},
   "outputs": [],
   "source": [
    "rf = RandomForestClassifier(\n",
    "    n_estimators=100, \n",
    "    random_state=42, \n",
    "    max_depth=5)\n",
    "rf.fit(X_train_scaled, y_train)\n",
    "y_pred_rf = rf.predict(X_test_scaled)\n",
    "y_proba_rf = rf.predict_proba(X_test_scaled)[:, 1]"
   ]
  },
  {
   "cell_type": "code",
   "execution_count": 31,
   "metadata": {},
   "outputs": [
    {
     "name": "stdout",
     "output_type": "stream",
     "text": [
      "RANDOM FOREST\n",
      "Accuracy: 0.7647\n",
      "Precision: 0.6000\n",
      "Recall: 0.6000\n",
      "F1: 0.6000\n",
      "R2: 0.1638\n"
     ]
    }
   ],
   "source": [
    "print('RANDOM FOREST')\n",
    "print(f'Accuracy: {accuracy_score(y_test, y_pred_rf):.4f}')\n",
    "print(f'Precision: {precision_score(y_test, y_pred_rf, zero_division=0):.4f}')\n",
    "print(f'Recall: {recall_score(y_test, y_pred_rf, zero_division=0):.4f}')\n",
    "print(f'F1: {f1_score(y_test, y_pred_rf, zero_division=0):.4f}')\n",
    "print(f'R2: {r2_score(y_test, y_proba_rf):.4f}')\n",
    "\n",
    "cm_rf = confusion_matrix(y_test, y_pred_rf)"
   ]
  },
  {
   "cell_type": "code",
   "execution_count": 28,
   "metadata": {},
   "outputs": [
    {
     "data": {
      "image/png": "[encoded data removed]",
      "text/plain": [
       "<Figure size 1200x500 with 2 Axes>"
      ]
     },
     "metadata": {},
     "output_type": "display_data"
    }
   ],
   "source": [
    "## Matrices de Confusión\n",
    "\n",
    "def plot_confusion_matrix_clean(cm, title, ax):\n",
    "    \n",
    "    # Calcular porcentajes\n",
    "    cm_percent = cm.astype('float') / cm.sum() * 100\n",
    "    \n",
    "    # Crear anotaciones con valor y porcentaje\n",
    "    labels = np.array([[f'{value}\\n({percent:.1f}%)' \n",
    "                       for value, percent in zip(row_cm, row_pct)]\n",
    "                      for row_cm, row_pct in zip(cm, cm_percent)])\n",
    "    \n",
    "    # Heatmap \n",
    "    sns.heatmap(cm, annot=labels, fmt='', cmap='Blues', \n",
    "                cbar=False, square=True, ax=ax,\n",
    "                linewidths=2.5, linecolor='white',\n",
    "                annot_kws={'size': 14, 'weight': 'bold'},\n",
    "                vmin=0, vmax=cm.sum()/2)\n",
    "    \n",
    "    # Título y etiquetas\n",
    "    ax.set_title(title, fontsize=14, fontweight='bold', pad=15, color='#2c3e50')\n",
    "    ax.set_xlabel('Predicción', fontsize=11, color='#34495e')\n",
    "    ax.set_ylabel('Real', fontsize=11, color='#34495e')\n",
    "    ax.set_xticklabels(['Baja', 'Sube'], fontsize=10)\n",
    "    ax.set_yticklabels(['Baja', 'Sube'], fontsize=10, rotation=0)\n",
    "\n",
    "# Crear figura con espaciado balanceado\n",
    "fig, axes = plt.subplots(1, 2, figsize=(12, 5))\n",
    "fig.suptitle('Comparación de Modelos', fontsize=16, fontweight='bold', y=1.02, color='#2c3e50')\n",
    "\n",
    "plot_confusion_matrix_clean(cm_lr, 'Logistic Regression', axes[0])\n",
    "plot_confusion_matrix_clean(cm_rf, 'Random Forest', axes[1])\n",
    "\n",
    "plt.tight_layout()\n",
    "plt.savefig('../outputs/figures/07_confusion_matrices_comparison.png', dpi=300, bbox_inches='tight')\n",
    "plt.show()\n"
   ]
  },
  {
   "cell_type": "markdown",
   "metadata": {},
   "source": [
    "## Comparación y Selección"
   ]
  },
  {
   "cell_type": "code",
   "execution_count": 34,
   "metadata": {},
   "outputs": [
    {
     "name": "stdout",
     "output_type": "stream",
     "text": [
      "F1 Logistic Regression: 0.4000\n",
      "F1 Random Forest:       0.6000\n",
      "\n",
      "Mejor modelo: Random Forest\n"
     ]
    }
   ],
   "source": [
    "f1_lr = f1_score(y_test, y_pred_lr, zero_division=0)\n",
    "f1_rf = f1_score(y_test, y_pred_rf, zero_division=0)\n",
    "print(f'F1 Logistic Regression: {f1_lr:.4f}')\n",
    "print(f'F1 Random Forest:       {f1_rf:.4f}')\n",
    "best = 'Random Forest' if f1_rf > f1_lr else 'Logistic Regression'\n",
    "print(f'\\nMejor modelo: {best}')"
   ]
  },
  {
   "cell_type": "markdown",
   "metadata": {},
   "source": [
    "## Feature Importance - Top 5"
   ]
  },
  {
   "cell_type": "code",
   "execution_count": 11,
   "metadata": {},
   "outputs": [
    {
     "name": "stdout",
     "output_type": "stream",
     "text": [
      "\n",
      "TOP 5 FEATURES MÁS IMPORTANTES:\n",
      "1. AA6KBD_pct_change: 0.1389\n",
      "2. avg_pct_change: 0.1223\n",
      "3. avg_change: 0.1160\n",
      "4. IPBG4J_change: 0.0925\n",
      "5. AA6KBD_change: 0.0860\n"
     ]
    }
   ],
   "source": [
    "if f1_rf > f1_lr:\n",
    "    importances = rf.feature_importances_\n",
    "    modelo_final = rf\n",
    "else:\n",
    "    importances = np.abs(lr.coef_[0])\n",
    "    modelo_final = lr\n",
    "\n",
    "feature_importance = pd.DataFrame({\n",
    "    'feature': X.columns,\n",
    "    'importance': importances\n",
    "}).sort_values('importance', ascending=False).reset_index(drop=True)\n",
    "\n",
    "print('\\nTOP 5 FEATURES MÁS IMPORTANTES:')\n",
    "for idx, row in feature_importance.head(5).iterrows():\n",
    "    print(f'{idx+1}. {row[\"feature\"]}: {row[\"importance\"]:.4f}')"
   ]
  },
  {
   "cell_type": "code",
   "execution_count": 12,
   "metadata": {},
   "outputs": [
    {
     "data": {
      "image/png": "[encoded data removed]",
      "text/plain": [
       "<Figure size 1000x600 with 1 Axes>"
      ]
     },
     "metadata": {},
     "output_type": "display_data"
    }
   ],
   "source": [
    "plt.figure(figsize=(10, 6))\n",
    "top5 = feature_importance.head(5)\n",
    "plt.barh(top5['feature'], top5['importance'], color='steelblue', edgecolor='black')\n",
    "plt.xlabel('Importance')\n",
    "plt.title('Top 5 Features Más Importantes')\n",
    "plt.gca().invert_yaxis()\n",
    "plt.tight_layout()\n",
    "plt.savefig('../outputs/figures/06_feature_importance.png', dpi=300)\n",
    "plt.show()"
   ]
  },
  {
   "cell_type": "code",
   "execution_count": 14,
   "metadata": {},
   "outputs": [
    {
     "data": {
      "text/plain": [
       "['../data/results/scaler.pkl']"
      ]
     },
     "execution_count": 14,
     "metadata": {},
     "output_type": "execute_result"
    }
   ],
   "source": [
    "joblib.dump(modelo_final, '../data/results/modelo_final.pkl')\n",
    "joblib.dump(scaler, '../data/results/scaler.pkl')\n"
   ]
  }
 ],
 "metadata": {
  "kernelspec": {
   "display_name": "Python 3",
   "language": "python",
   "name": "python3"
  },
  "language_info": {
   "codemirror_mode": {
    "name": "ipython",
    "version": 3
   },
   "file_extension": ".py",
   "mimetype": "text/x-python",
   "name": "python",
   "nbconvert_exporter": "python",
   "pygments_lexer": "ipython3",
   "version": "3.14.0"
  }
 },
 "nbformat": 4,
 "nbformat_minor": 4
}
