{
 "cells": [
  {
   "cell_type": "markdown",
   "metadata": {},
   "source": [
    "# Notebook 05: Evaluación y Resultados\n",
    "\n",
    "**Prueba Técnica - Modelador Junior**"
   ]
  },
  {
   "cell_type": "code",
   "execution_count": 37,
   "metadata": {},
   "outputs": [],
   "source": [
    "import pandas as pd\n",
    "import numpy as np\n",
    "import matplotlib.pyplot as plt\n",
    "import seaborn as sns\n",
    "import joblib\n",
    "from sklearn.metrics import accuracy_score, precision_score, recall_score, f1_score, confusion_matrix, classification_report\n",
    "import warnings\n",
    "warnings.filterwarnings('ignore')"
   ]
  },
  {
   "cell_type": "code",
   "execution_count": 38,
   "metadata": {},
   "outputs": [
    {
     "name": "stdout",
     "output_type": "stream",
     "text": [
      "Modelo: RandomForestClassifier\n"
     ]
    }
   ],
   "source": [
    "modelo = joblib.load('../data/results/modelo_final.pkl')\n",
    "scaler = joblib.load('../data/results/scaler.pkl')\n",
    "print(f'Modelo: {type(modelo).__name__}')"
   ]
  },
  {
   "cell_type": "code",
   "execution_count": 39,
   "metadata": {},
   "outputs": [
    {
     "name": "stdout",
     "output_type": "stream",
     "text": [
      "Dataset cargado: (56, 33)\n",
      "Features (X): (56, 28)\n",
      "Target (y): (56,)\n"
     ]
    }
   ],
   "source": [
    "df = pd.read_csv('../data/processed/dataset_final.csv')\n",
    "exclude = ['date_requested', 'date_prediction', 'direction_real', 'value_at_request', 'value_at_prediction']\n",
    "X = df[[c for c in df.columns if c not in exclude]]\n",
    "y = df['direction_real']\n",
    "\n",
    "print(f'Dataset cargado: {df.shape}')\n",
    "print(f'Features (X): {X.shape}')\n",
    "print(f'Target (y): {y.shape}')"
   ]
  },
  {
   "cell_type": "code",
   "execution_count": 40,
   "metadata": {},
   "outputs": [
    {
     "name": "stdout",
     "output_type": "stream",
     "text": [
      "Train set: (39, 28)\n",
      "Test set: (17, 28)\n",
      "Proporcion: 69.6% train / 30.4% test\n"
     ]
    }
   ],
   "source": [
    "from sklearn.model_selection import train_test_split\n",
    "\n",
    "# Split temporal (70% train, 30% test)\n",
    "X_train, X_test, y_train, y_test = train_test_split(X, y, test_size=0.3, shuffle=False, random_state=42)\n",
    "X_test_scaled = scaler.transform(X_test)\n",
    "\n",
    "print(f'Train set: {X_train.shape}')\n",
    "print(f'Test set: {X_test.shape}')\n",
    "print(f'Proporcion: {len(X_train)/len(X):.1%} train / {len(X_test)/len(X):.1%} test')"
   ]
  },
  {
   "cell_type": "code",
   "execution_count": 41,
   "metadata": {},
   "outputs": [
    {
     "name": "stdout",
     "output_type": "stream",
     "text": [
      "======================================================================\n",
      "EVALUACION FINAL DEL MODELO\n",
      "======================================================================\n",
      "\n",
      "Modelo: RandomForestClassifier\n",
      "Test set: 17 registros\n",
      "\n",
      "----------------------------------------------------------------------\n",
      "METRICAS DE CLASIFICACION\n",
      "----------------------------------------------------------------------\n",
      "Accuracy:  0.7647 (76.47%)\n",
      "Precision: 0.6000 (60.00%)\n",
      "Recall:    0.6000 (60.00%)\n",
      "F1-Score:  0.6000 (60.00%)\n",
      "\n",
      "----------------------------------------------------------------------\n",
      "MATRIZ DE CONFUSION\n",
      "----------------------------------------------------------------------\n",
      "\n",
      "              Predicho\n",
      "              Baja  Sube\n",
      "Real  Baja     10     2\n",
      "      Sube     2     3\n",
      "\n",
      "----------------------------------------------------------------------\n",
      "INTERPRETACION\n",
      "----------------------------------------------------------------------\n",
      "[+] Verdaderos Negativos (TN): 10 - Correctamente predijo BAJA\n",
      "[!] Falsos Positivos (FP):     2 - Predijo SUBE pero fue BAJA\n",
      "[!] Falsos Negativos (FN):     2 - Predijo BAJA pero fue SUBE\n",
      "[+] Verdaderos Positivos (TP): 3 - Correctamente predijo SUBE\n",
      "\n",
      "[OK] Accuracy: 76.47% - 13 de 17 predicciones correctas\n",
      "[OK] Precision-Recall balanceados: 60% cada uno\n",
      "======================================================================\n"
     ]
    }
   ],
   "source": [
    "y_pred = modelo.predict(X_test_scaled)\n",
    "y_proba = modelo.predict_proba(X_test_scaled)\n",
    "\n",
    "print(\"=\"*70)\n",
    "print(\"EVALUACION FINAL DEL MODELO\")\n",
    "print(\"=\"*70)\n",
    "print(f'\\nModelo: {type(modelo).__name__}')\n",
    "print(f'Test set: {len(y_test)} registros')\n",
    "print(\"\\n\" + \"-\"*70)\n",
    "print(\"METRICAS DE CLASIFICACION\")\n",
    "print(\"-\"*70)\n",
    "acc = accuracy_score(y_test, y_pred)\n",
    "prec = precision_score(y_test, y_pred, zero_division=0)\n",
    "rec = recall_score(y_test, y_pred, zero_division=0)\n",
    "f1 = f1_score(y_test, y_pred, zero_division=0)\n",
    "\n",
    "print(f'Accuracy:  {acc:.4f} ({acc*100:.2f}%)')\n",
    "print(f'Precision: {prec:.4f} ({prec*100:.2f}%)')\n",
    "print(f'Recall:    {rec:.4f} ({rec*100:.2f}%)')\n",
    "print(f'F1-Score:  {f1:.4f} ({f1*100:.2f}%)')\n",
    "\n",
    "print(\"\\n\" + \"-\"*70)\n",
    "print(\"MATRIZ DE CONFUSION\")\n",
    "print(\"-\"*70)\n",
    "cm = confusion_matrix(y_test, y_pred)\n",
    "print(f'\\n              Predicho')\n",
    "print(f'              Baja  Sube')\n",
    "print(f'Real  Baja     {cm[0,0]}     {cm[0,1]}')\n",
    "print(f'      Sube     {cm[1,0]}     {cm[1,1]}')\n",
    "\n",
    "print(\"\\n\" + \"-\"*70)\n",
    "print(\"INTERPRETACION\")\n",
    "print(\"-\"*70)\n",
    "print(f'[+] Verdaderos Negativos (TN): {cm[0,0]} - Correctamente predijo BAJA')\n",
    "print(f'[!] Falsos Positivos (FP):     {cm[0,1]} - Predijo SUBE pero fue BAJA')\n",
    "print(f'[!] Falsos Negativos (FN):     {cm[1,0]} - Predijo BAJA pero fue SUBE')\n",
    "print(f'[+] Verdaderos Positivos (TP): {cm[1,1]} - Correctamente predijo SUBE')\n",
    "print(f'\\n[OK] Accuracy: {acc*100:.2f}% - {cm[0,0] + cm[1,1]} de {len(y_test)} predicciones correctas')\n",
    "print(f'[OK] Precision-Recall balanceados: {prec*100:.0f}% cada uno')\n",
    "print(\"=\"*70)"
   ]
  },
  {
   "cell_type": "code",
   "execution_count": 42,
   "metadata": {},
   "outputs": [
    {
     "name": "stdout",
     "output_type": "stream",
     "text": [
      "======================================================================\n",
      "RESUMEN DE PREDICCIONES EN TEST SET\n",
      "======================================================================\n",
      "\n",
      "Total de casos en test: 17\n",
      "Predicciones correctas: 13\n",
      "Predicciones incorrectas: 4\n",
      "\n",
      "----------------------------------------------------------------------\n",
      "EJEMPLOS DE PREDICCIONES\n",
      "----------------------------------------------------------------------\n",
      "\n",
      "[Caso 1]\n",
      "  Direccion REAL:      BAJA\n",
      "  Direccion PREDICHA:  BAJA\n",
      "  Confianza:           100.0%\n",
      "  Resultado:           CORRECTO\n",
      "\n",
      "[Caso 2]\n",
      "  Direccion REAL:      BAJA\n",
      "  Direccion PREDICHA:  BAJA\n",
      "  Confianza:           96.0%\n",
      "  Resultado:           CORRECTO\n",
      "\n",
      "[Caso 3]\n",
      "  Direccion REAL:      SUBE\n",
      "  Direccion PREDICHA:  BAJA\n",
      "  Confianza:           82.0%\n",
      "  Resultado:           INCORRECTO\n",
      "\n",
      "[Caso 4]\n",
      "  Direccion REAL:      BAJA\n",
      "  Direccion PREDICHA:  BAJA\n",
      "  Confianza:           80.0%\n",
      "  Resultado:           CORRECTO\n",
      "\n",
      "[Caso 5]\n",
      "  Direccion REAL:      BAJA\n",
      "  Direccion PREDICHA:  BAJA\n",
      "  Confianza:           84.0%\n",
      "  Resultado:           CORRECTO\n",
      "\n",
      "======================================================================\n",
      "[OK] Evaluacion completada\n",
      "======================================================================\n"
     ]
    }
   ],
   "source": [
    "# Resumen de predicciones\n",
    "print(\"=\"*70)\n",
    "print(\"RESUMEN DE PREDICCIONES EN TEST SET\")\n",
    "print(\"=\"*70)\n",
    "\n",
    "print(f\"\\nTotal de casos en test: {len(y_test)}\")\n",
    "print(f\"Predicciones correctas: {(y_pred == y_test.values).sum()}\")\n",
    "print(f\"Predicciones incorrectas: {(y_pred != y_test.values).sum()}\")\n",
    "\n",
    "print(\"\\n\" + \"-\"*70)\n",
    "print(\"EJEMPLOS DE PREDICCIONES\")\n",
    "print(\"-\"*70)\n",
    "\n",
    "for i in range(min(5, len(y_pred))):\n",
    "    print(f\"\\n[Caso {i+1}]\")\n",
    "    print(f\"  Direccion REAL:      {'SUBE' if y_test.values[i] == 1 else 'BAJA'}\")\n",
    "    print(f\"  Direccion PREDICHA:  {'SUBE' if y_pred[i] == 1 else 'BAJA'}\")\n",
    "    print(f\"  Confianza:           {max(y_proba[i])*100:.1f}%\")\n",
    "    print(f\"  Resultado:           {'CORRECTO' if y_pred[i] == y_test.values[i] else 'INCORRECTO'}\")\n",
    "\n",
    "print(\"\\n\" + \"=\"*70)\n",
    "print(\"[OK] Evaluacion completada\")\n",
    "print(\"=\"*70)\n"
   ]
  },
  {
   "cell_type": "markdown",
   "metadata": {},
   "source": [
    "## Conclusiones (3-4 bullets)"
   ]
  },
  {
   "cell_type": "markdown",
   "metadata": {},
   "source": [
    "**Resumen:**\n",
    "- El modelo [nombre] logró un F1-Score de X.XX%, demostrando capacidad para predecir la dirección de precios\n",
    "- Las features más importantes fueron [top 3], indicando que el consenso entre modelos es clave\n",
    "- El dataset balanceado permitió entrenar sin necesidad de técnicas de balanceo\n",
    "\n",
    "**Limitaciones:**\n",
    "- Dataset pequeño (~17 registros) limita la generalización del modelo\n",
    "- Limitado a un solo commodity (Granular), no generalizable a otros productos\n",
    "- Diferencia fijo de 4 semanas, no adaptable a otros períodos\n",
    "\n",
    "**Próximos pasos:**\n",
    "- Recolectar más datos históricos para mejorar robustez\n",
    "- Probar con múltiples commodities para modelo más general\n",
    "- Implementar ensemble más sofisticado (stacking, boosting)\n",
    "- Agregar features temporales y de mercado externo"
   ]
  }
 ],
 "metadata": {
  "kernelspec": {
   "display_name": "Python 3",
   "language": "python",
   "name": "python3"
  },
  "language_info": {
   "codemirror_mode": {
    "name": "ipython",
    "version": 3
   },
   "file_extension": ".py",
   "mimetype": "text/x-python",
   "name": "python",
   "nbconvert_exporter": "python",
   "pygments_lexer": "ipython3",
   "version": "3.14.0"
  }
 },
 "nbformat": 4,
 "nbformat_minor": 4
}
